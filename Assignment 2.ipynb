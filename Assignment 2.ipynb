{
 "cells": [
  {
   "cell_type": "markdown",
   "metadata": {},
   "source": [
    "## Question 1\n",
    "####  Write a program to prompt for a score between 0 and 1. If the score is out of range, print an error message\n",
    "####  If the score is between 0 and 1 print a grade using following table\n",
    "    score   grade\n",
    "     >=0.9    A\n",
    "     >=0.8    B\n",
    "     >=0.7    C\n",
    "     >=0.6    D\n",
    "     <0.6     F\n"
   ]
  },
  {
   "cell_type": "code",
   "execution_count": 18,
   "metadata": {
    "scrolled": true
   },
   "outputs": [
    {
     "name": "stdout",
     "output_type": "stream",
     "text": [
      "Pick a number in range 0-1 : 5\n",
      "Number out of range! Please pick a number in range 0-1 \n",
      "Pick a number in range 0-1 : 2\n",
      "Number out of range! Please pick a number in range 0-1 \n",
      "Pick a number in range 0-1 : 2\n",
      "Number out of range! Please pick a number in range 0-1 \n",
      "Pick a number in range 0-1 : 5\n",
      "Number out of range! Please pick a number in range 0-1 \n",
      "Pick a number in range 0-1 : 6\n",
      "Number out of range! Please pick a number in range 0-1 \n",
      "Pick a number in range 0-1 : .84\n",
      "The Grade is : B\n"
     ]
    }
   ],
   "source": [
    "grade = ''\n",
    "\n",
    "while True:\n",
    "    score = float(input('Pick a number in range 0-1 : '))\n",
    "    if 0<score<1 :\n",
    "        if score >=0.9:\n",
    "            grade = 'A'\n",
    "            break\n",
    "        elif 0.8 <= score < 0.9:\n",
    "            grade = 'B'\n",
    "            break\n",
    "        elif 0.7 <= score < 0.8:\n",
    "            grade = 'C'\n",
    "            break\n",
    "        elif 0.6 <= score < 0.7:\n",
    "            grade = 'D'\n",
    "            break\n",
    "        else:\n",
    "            grade = 'F'\n",
    "            break\n",
    "    else:\n",
    "        print(\"Number out of range! Please pick a number in range 0-1 \")\n",
    "        \n",
    " \n",
    "print(\"The Grade is : \"+ grade)"
   ]
  },
  {
   "cell_type": "markdown",
   "metadata": {},
   "source": [
    "## Question 2\n",
    "#### Write a program which repeatedly reads number until the user enter \"done\". Once \"done\" is entered, print out the total, count, and average of the numbers.\n",
    "\n",
    "#### NOTE : If the user enters enything other than a number, detect their mistake using try and except and print an error message and skip to the next number"
   ]
  },
  {
   "cell_type": "code",
   "execution_count": 30,
   "metadata": {},
   "outputs": [
    {
     "name": "stdout",
     "output_type": "stream",
     "text": [
      "Enter a number :1\n",
      "Enter a number :2\n",
      "Enter a number :3\n",
      "Enter a number :f\n",
      "Enter a valid number\n",
      "Enter a number :4\n",
      "Enter a number :done\n",
      "\n",
      "Total is   : 10.0\n",
      "Count is   : 4\n",
      "Average is : 2.5\n"
     ]
    }
   ],
   "source": [
    "count  = 0\n",
    "total = 0\n",
    "\n",
    "while True:\n",
    "    n = input('Enter a number :')\n",
    "    \n",
    "    if n == 'done':\n",
    "        avg = total/count\n",
    "        \n",
    "        print(\"\\nTotal is   : \"+str(total))\n",
    "        print(\"Count is   : \"+str(count))\n",
    "        print(\"Average is : \"+str(avg))\n",
    "        break\n",
    "    \n",
    "    else:\n",
    "        try:\n",
    "            total += float(n)\n",
    "        except ValueError:\n",
    "            print('Incorrect Input. Please enter a valid number')\n",
    "            continue\n",
    "         \n",
    "        count += 1\n",
    "    "
   ]
  },
  {
   "cell_type": "markdown",
   "metadata": {},
   "source": [
    "## Question 3\n",
    "#### Write a program to open the file (question4.txt) and read it line by line. For each line, split the line into a list of words using the split function. For each word, check to see if the word is already in a list. If the word is not in the list, add it to the list. When the program complates, sort and print the resulting words."
   ]
  },
  {
   "cell_type": "code",
   "execution_count": 56,
   "metadata": {},
   "outputs": [
    {
     "name": "stdout",
     "output_type": "stream",
     "text": [
      "['Arise', 'But', 'It', 'Juliet', 'Who', 'already', 'and', 'breaks', 'east', 'envious', 'fair', 'grief', 'is', 'kill', 'light', 'moon', 'pale', 'sick', 'soft', 'sun', 'the', 'through', 'what', 'window', 'with', 'yonder']\n"
     ]
    }
   ],
   "source": [
    "fh = open(\"question4.txt\")\n",
    "lst = list()                       # list for the desired output\n",
    "for line in fh:                    # to read every line of file romeo.txt\n",
    "    word= line.rstrip().split()    # to eliminate the unwanted blanks and turn the line into a list of words\n",
    "    for element in word:           # check every element in word    \n",
    "        if element in lst:         # if element is repeated\n",
    "            continue               # do nothing\n",
    "        else :                     # else if element is not in the list\n",
    "            lst.append(element)    # append     \n",
    "lst.sort()                         # sort the list (de-indent indicates that you sort when the loop ends)\n",
    "print(lst)                          # print the list"
   ]
  },
  {
   "cell_type": "markdown",
   "metadata": {},
   "source": [
    "## Question 4\n",
    "#### Write a program which will find all such numbers which are divisible by 7 but are not a multiple of 5, between 2000 and 3200 (both included).\n",
    "#### The numbers obtained should be printed in a comma-separated sequence on a single line."
   ]
  },
  {
   "cell_type": "code",
   "execution_count": 108,
   "metadata": {},
   "outputs": [
    {
     "name": "stdout",
     "output_type": "stream",
     "text": [
      "2002, 2009, 2016, 2023, 2037, 2044, 2051, 2058, 2072, 2079, 2086, 2093, 2107, 2114, 2121, 2128, 2142, 2149, 2156, 2163, 2177, 2184, 2191, 2198, 2212, 2219, 2226, 2233, 2247, 2254, 2261, 2268, 2282, 2289, 2296, 2303, 2317, 2324, 2331, 2338, 2352, 2359, 2366, 2373, 2387, 2394, 2401, 2408, 2422, 2429, 2436, 2443, 2457, 2464, 2471, 2478, 2492, 2499, 2506, 2513, 2527, 2534, 2541, 2548, 2562, 2569, 2576, 2583, 2597, 2604, 2611, 2618, 2632, 2639, 2646, 2653, 2667, 2674, 2681, 2688, 2702, 2709, 2716, 2723, 2737, 2744, 2751, 2758, 2772, 2779, 2786, 2793, 2807, 2814, 2821, 2828, 2842, 2849, 2856, 2863, 2877, 2884, 2891, 2898, 2912, 2919, 2926, 2933, 2947, 2954, 2961, 2968, 2982, 2989, 2996, 3003, 3017, 3024, 3031, 3038, 3052, 3059, 3066, 3073, 3087, 3094, 3101, 3108, 3122, 3129, 3136, 3143, 3157, 3164, 3171, 3178, 3192, 3199\n"
     ]
    }
   ],
   "source": [
    "lst = []\n",
    "for i in range(2000,3201):\n",
    "    if (i%7 == 0) and (i%5 != 0):\n",
    "        lst.append(i)\n",
    "\n",
    "print(', '.join(map(str,lst)))"
   ]
  },
  {
   "cell_type": "markdown",
   "metadata": {},
   "source": [
    "## Question 5\n",
    "#### Write a program which can compute the factorial of a given numbers."
   ]
  },
  {
   "cell_type": "code",
   "execution_count": 136,
   "metadata": {},
   "outputs": [],
   "source": [
    "def findFact(num):\n",
    "    fact = 1\n",
    "    if num == 0:\n",
    "        return 1\n",
    "    else:\n",
    "        for i in range(1,(num+1)):\n",
    "            fact *= i\n",
    "        return fact \n",
    "\n",
    "import numpy as np\n",
    "\n",
    "x = np.array([range(1,11)])"
   ]
  },
  {
   "cell_type": "markdown",
   "metadata": {},
   "source": [
    "## Question 6:\n",
    "#### With a given integral number n, write a program to generate a dictionary that contains (i, i*i) such that is an integral number between 1 and n (both included). and then the program should print the dictionary.\n",
    "#### Suppose the following input is supplied to the program: 8\n",
    "#### Then, the output should be:\n",
    "#### {1: 1, 2: 4, 3: 9, 4: 16, 5: 25, 6: 36, 7: 49, 8: 64}\n"
   ]
  },
  {
   "cell_type": "code",
   "execution_count": 145,
   "metadata": {},
   "outputs": [
    {
     "data": {
      "text/plain": [
       "{1: 1, 2: 4, 3: 9, 4: 16, 5: 25, 6: 36, 7: 49, 8: 64, 9: 81, 10: 100}"
      ]
     },
     "execution_count": 145,
     "metadata": {},
     "output_type": "execute_result"
    }
   ],
   "source": [
    "def genDictionary(num):\n",
    "    d = dict()\n",
    "    for i in range(1,num+1):\n",
    "        d[i] = i*i\n",
    "    \n",
    "    return d\n",
    "\n",
    "genDictionary(10)"
   ]
  },
  {
   "cell_type": "markdown",
   "metadata": {},
   "source": [
    "## Question 7\n",
    "#### Write a program which accepts a sequence of comma-separated numbers from console and generate a list and a tuple which contains every number.\n",
    "#### Suppose the following input is supplied to the program:\n",
    "#### 34,67,55,33,12,98\n",
    "#### Then, the output should be:\n",
    "#### ['34', '67', '55', '33', '12', '98']\n",
    "#### ('34', '67', '55', '33', '12', '98')"
   ]
  },
  {
   "cell_type": "code",
   "execution_count": 146,
   "metadata": {},
   "outputs": [
    {
     "name": "stdout",
     "output_type": "stream",
     "text": [
      "Enter some comma separated numbers34,67,55,33,12,98\n",
      "['34', '67', '55', '33', '12', '98']\n",
      "('34', '67', '55', '33', '12', '98')\n"
     ]
    }
   ],
   "source": [
    "values = input(\"Enter some comma separated numbers\")\n",
    "lst = values.split(\",\")\n",
    "tup = tuple(l)\n",
    "print(lst)\n",
    "print(tup)"
   ]
  },
  {
   "cell_type": "code",
   "execution_count": null,
   "metadata": {
    "collapsed": true
   },
   "outputs": [],
   "source": []
  }
 ],
 "metadata": {
  "kernelspec": {
   "display_name": "Python 3",
   "language": "python",
   "name": "python3"
  },
  "language_info": {
   "codemirror_mode": {
    "name": "ipython",
    "version": 3
   },
   "file_extension": ".py",
   "mimetype": "text/x-python",
   "name": "python",
   "nbconvert_exporter": "python",
   "pygments_lexer": "ipython3",
   "version": "3.6.2"
  }
 },
 "nbformat": 4,
 "nbformat_minor": 2
}
